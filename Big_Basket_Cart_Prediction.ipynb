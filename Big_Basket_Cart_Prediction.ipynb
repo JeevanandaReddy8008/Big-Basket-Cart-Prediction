{
  "cells": [
    {
      "cell_type": "markdown",
      "metadata": {
        "id": "GFHW1brQTm4n"
      },
      "source": [
        "# Big Basket Cart Prediction"
      ]
    },
    {
      "cell_type": "markdown",
      "metadata": {
        "id": "rGN0F7sfUa_k"
      },
      "source": [
        "## Installing Apyori"
      ]
    },
    {
      "cell_type": "code",
      "execution_count": null,
      "metadata": {
        "colab": {
          "base_uri": "https://localhost:8080/"
        },
        "id": "S9fZT-ooTpgT",
        "outputId": "78f312c1-9ccf-4d59-8ba0-e36f508779b6"
      },
      "outputs": [
        {
          "name": "stdout",
          "output_type": "stream",
          "text": [
            "Looking in indexes: https://pypi.org/simple, https://us-python.pkg.dev/colab-wheels/public/simple/\n",
            "Requirement already satisfied: apyori in /usr/local/lib/python3.8/dist-packages (1.1.2)\n"
          ]
        }
      ],
      "source": [
        "!pip install apyori\n",
        "# Apyori is a Machine Learning algorithm which is used to gain insight into the structured relationships between different items involved."
      ]
    },
    {
      "cell_type": "markdown",
      "metadata": {
        "id": "MgMzOss4bN0x"
      },
      "source": [
        "## Importing Libraries"
      ]
    },
    {
      "cell_type": "code",
      "execution_count": 3,
      "metadata": {
        "id": "geJsJhFubX2j"
      },
      "outputs": [],
      "source": [
        "import pandas as pd\n",
        "import numpy as np\n",
        "import matplotlib.pyplot as plt"
      ]
    },
    {
      "cell_type": "markdown",
      "metadata": {
        "id": "oPSOqG6QbmAt"
      },
      "source": [
        "## Importing Dataset"
      ]
    },
    {
      "cell_type": "code",
      "execution_count": 6,
      "metadata": {
        "id": "Mct6TIQTbieY"
      },
      "outputs": [],
      "source": [
        "data_set= pd.read_csv(\"Big Basket.com Cart Apriori.csv\", header= None)"
      ]
    },
    {
      "cell_type": "code",
      "execution_count": 22,
      "metadata": {
        "colab": {
          "base_uri": "https://localhost:8080/"
        },
        "id": "aPdx7xXsc--s",
        "outputId": "978a7385-ec04-46e1-bda5-29d225018e01"
      },
      "outputs": [
        {
          "name": "stdout",
          "output_type": "stream",
          "text": [
            "<bound method NDFrame.head of                  0                    1         2             3   \\\n",
            "0           chutney                  NaN       NaN           NaN   \n",
            "1              knor  ginger garlic paste  MTR Idli           NaN   \n",
            "2            turkey          spirit fish  tomatoes     spaghetti   \n",
            "3              eggs                  NaN       NaN           NaN   \n",
            "4            kinley                  NaN       NaN           NaN   \n",
            "...             ...                  ...       ...           ...   \n",
            "7214  mineral water            green tea       NaN           NaN   \n",
            "7215      green tea                  NaN       NaN           NaN   \n",
            "7216  patanjali tea              chicken      eggs  french fries   \n",
            "7217  mineral water                 milk      cake      brownies   \n",
            "7218       neckrest         french fries       NaN           NaN   \n",
            "\n",
            "                 4              5       6     7        8   \\\n",
            "0               NaN            NaN     NaN   NaN      NaN   \n",
            "1               NaN            NaN     NaN   NaN      NaN   \n",
            "2     mineral water  patanjali tea  salmon  eggs  chicken   \n",
            "3               NaN            NaN     NaN   NaN      NaN   \n",
            "4               NaN            NaN     NaN   NaN      NaN   \n",
            "...             ...            ...     ...   ...      ...   \n",
            "7214            NaN            NaN     NaN   NaN      NaN   \n",
            "7215            NaN            NaN     NaN   NaN      NaN   \n",
            "7216       Roohafza            NaN     NaN   NaN      NaN   \n",
            "7217            NaN            NaN     NaN   NaN      NaN   \n",
            "7218            NaN            NaN     NaN   NaN      NaN   \n",
            "\n",
            "                           9    10   11   12   13   14   15   16   17   18  \\\n",
            "0                         NaN  NaN  NaN  NaN  NaN  NaN  NaN  NaN  NaN  NaN   \n",
            "1                         NaN  NaN  NaN  NaN  NaN  NaN  NaN  NaN  NaN  NaN   \n",
            "2     cadbury white chocolate  NaN  NaN  NaN  NaN  NaN  NaN  NaN  NaN  NaN   \n",
            "3                         NaN  NaN  NaN  NaN  NaN  NaN  NaN  NaN  NaN  NaN   \n",
            "4                         NaN  NaN  NaN  NaN  NaN  NaN  NaN  NaN  NaN  NaN   \n",
            "...                       ...  ...  ...  ...  ...  ...  ...  ...  ...  ...   \n",
            "7214                      NaN  NaN  NaN  NaN  NaN  NaN  NaN  NaN  NaN  NaN   \n",
            "7215                      NaN  NaN  NaN  NaN  NaN  NaN  NaN  NaN  NaN  NaN   \n",
            "7216                      NaN  NaN  NaN  NaN  NaN  NaN  NaN  NaN  NaN  NaN   \n",
            "7217                      NaN  NaN  NaN  NaN  NaN  NaN  NaN  NaN  NaN  NaN   \n",
            "7218                      NaN  NaN  NaN  NaN  NaN  NaN  NaN  NaN  NaN  NaN   \n",
            "\n",
            "       19  \n",
            "0     NaN  \n",
            "1     NaN  \n",
            "2     NaN  \n",
            "3     NaN  \n",
            "4     NaN  \n",
            "...   ...  \n",
            "7214  NaN  \n",
            "7215  NaN  \n",
            "7216  NaN  \n",
            "7217  NaN  \n",
            "7218  NaN  \n",
            "\n",
            "[7219 rows x 20 columns]>\n"
          ]
        }
      ],
      "source": [
        "print(data_set.head)"
      ]
    },
    {
      "cell_type": "code",
      "execution_count": 17,
      "metadata": {
        "id": "ngKeLrAjdBDg"
      },
      "outputs": [],
      "source": [
        "transcation= []\n",
        "\n",
        "for i in range(0, 7219):\n",
        "  transcation.append([str(data_set.values[i, j]) for j in range(0, 20)])"
      ]
    },
    {
      "cell_type": "code",
      "execution_count": null,
      "metadata": {
        "colab": {
          "base_uri": "https://localhost:8080/"
        },
        "id": "4goBLfXbeEqm",
        "outputId": "80250c02-1293-4e1a-9fc3-d40706c2e3cf"
      },
      "outputs": [],
      "source": [
        "print(transcation)"
      ]
    },
    {
      "cell_type": "markdown",
      "metadata": {
        "id": "0E9llu68gKD2"
      },
      "source": [
        "## Apriori Training Dataset"
      ]
    },
    {
      "cell_type": "code",
      "execution_count": 32,
      "metadata": {
        "id": "ame9C4EsekAn"
      },
      "outputs": [],
      "source": [
        "# Support is an indication of how frequently the items appear in the data. \n",
        "# Confidence indicates the number of times the if-then statements are found true.\n",
        "# lift is that item Y is likely to be bought if item X is bought\n",
        "from apyori import apriori\n",
        "backet_intelligence= apriori(transactions= transcation, min_support= 0.003, min_confidence= 0.2, min_lift= 3, min_length= 2, max_length= 2)"
      ]
    },
    {
      "cell_type": "markdown",
      "metadata": {
        "id": "puBlmjfgg2xl"
      },
      "source": [
        "## Visualizing Result"
      ]
    },
    {
      "cell_type": "markdown",
      "metadata": {
        "id": "mBE4-mosg_v4"
      },
      "source": [
        "### Raw Results"
      ]
    },
    {
      "cell_type": "code",
      "execution_count": 33,
      "metadata": {
        "id": "VG5WHAgigx1F"
      },
      "outputs": [],
      "source": [
        "results= list(backet_intelligence)"
      ]
    },
    {
      "cell_type": "code",
      "execution_count": 34,
      "metadata": {
        "colab": {
          "base_uri": "https://localhost:8080/"
        },
        "id": "cwxljxnnhKUU",
        "outputId": "5769684b-77c2-4730-c88f-5193c8baa3c4"
      },
      "outputs": [
        {
          "data": {
            "text/plain": [
              "[RelationRecord(items=frozenset({'burgers', 'almonds'}), support=0.005402410306136584, ordered_statistics=[OrderedStatistic(items_base=frozenset({'almonds'}), items_add=frozenset({'burgers'}), confidence=0.26530612244897955, lift=3.0594966421073218)]),\n",
              " RelationRecord(items=frozenset({'paneer', 'buns'}), support=0.016068707577226764, ordered_statistics=[OrderedStatistic(items_base=frozenset({'buns'}), items_add=frozenset({'paneer'}), confidence=0.32402234636871513, lift=3.2852771326344867)]),\n",
              " RelationRecord(items=frozenset({'chicken', 'ginger garlic paste'}), support=0.004571270259038648, ordered_statistics=[OrderedStatistic(items_base=frozenset({'ginger garlic paste'}), items_add=frozenset({'chicken'}), confidence=0.29203539823008845, lift=4.791371681415929)]),\n",
              " RelationRecord(items=frozenset({'vegetable basket', 'fruit basket'}), support=0.0055409336473195734, ordered_statistics=[OrderedStatistic(items_base=frozenset({'fruit basket'}), items_add=frozenset({'vegetable basket'}), confidence=0.29411764705882354, lift=3.081618714249125)]),\n",
              " RelationRecord(items=frozenset({'olive oil', 'ginger garlic paste'}), support=0.003324560188391744, ordered_statistics=[OrderedStatistic(items_base=frozenset({'ginger garlic paste'}), items_add=frozenset({'olive oil'}), confidence=0.21238938053097342, lift=3.2346813039094875)]),\n",
              " RelationRecord(items=frozenset({'paneer', 'kissan puree'}), support=0.005402410306136584, ordered_statistics=[OrderedStatistic(items_base=frozenset({'kissan puree'}), items_add=frozenset({'paneer'}), confidence=0.3786407766990291, lift=3.8390558525144542)]),\n",
              " RelationRecord(items=frozenset({'maggi', 'pasta'}), support=0.0034630835295747335, ordered_statistics=[OrderedStatistic(items_base=frozenset({'pasta'}), items_add=frozenset({'maggi'}), confidence=0.24752475247524755, lift=3.4562498803071797)]),\n",
              " RelationRecord(items=frozenset({'pasta', 'mushroom'}), support=0.005402410306136584, ordered_statistics=[OrderedStatistic(items_base=frozenset({'pasta'}), items_add=frozenset({'mushroom'}), confidence=0.38613861386138615, lift=4.873312331233124)]),\n",
              " RelationRecord(items=frozenset({'pepper spray', 'mushroom'}), support=0.005817980329685552, ordered_statistics=[OrderedStatistic(items_base=frozenset({'pepper spray'}), items_add=frozenset({'mushroom'}), confidence=0.3021582733812949, lift=3.8134275796146295)]),\n",
              " RelationRecord(items=frozenset({'trolly bag', 'neckrest'}), support=0.0034630835295747335, ordered_statistics=[OrderedStatistic(items_base=frozenset({'neckrest'}), items_add=frozenset({'trolly bag'}), confidence=0.2717391304347826, lift=5.620873302603712)]),\n",
              " RelationRecord(items=frozenset({'olive oil', 'whole wheat pasta'}), support=0.007757307106247403, ordered_statistics=[OrderedStatistic(items_base=frozenset({'whole wheat pasta'}), items_add=frozenset({'olive oil'}), confidence=0.26666666666666666, lift=4.061322081575246)])]"
            ]
          },
          "execution_count": 34,
          "metadata": {},
          "output_type": "execute_result"
        }
      ],
      "source": [
        "results"
      ]
    },
    {
      "cell_type": "code",
      "execution_count": 35,
      "metadata": {
        "colab": {
          "base_uri": "https://localhost:8080/"
        },
        "id": "JfGJxZslhSJL",
        "outputId": "57bd335c-404d-44f5-a8c0-905fbb23cc3c"
      },
      "outputs": [
        {
          "data": {
            "text/plain": [
              "RelationRecord(items=frozenset({'burgers', 'almonds'}), support=0.005402410306136584, ordered_statistics=[OrderedStatistic(items_base=frozenset({'almonds'}), items_add=frozenset({'burgers'}), confidence=0.26530612244897955, lift=3.0594966421073218)])"
            ]
          },
          "execution_count": 35,
          "metadata": {},
          "output_type": "execute_result"
        }
      ],
      "source": [
        "results[0]"
      ]
    },
    {
      "cell_type": "markdown",
      "metadata": {
        "id": "S9B6IKZShvzZ"
      },
      "source": [
        "### Proper Display of Results"
      ]
    },
    {
      "cell_type": "code",
      "execution_count": 36,
      "metadata": {
        "id": "rD6wHuW2h2KC"
      },
      "outputs": [],
      "source": [
        "def incepect(results):\n",
        "  product1= [tuple(result[2][0][0])[0] for result in results]\n",
        "  product2= [tuple(result[2][0][1])[0] for result in results]\n",
        "  supports= [result[1] for result in results]\n",
        "  confidences= [result[2][0][2] for result in results]\n",
        "  lifts= [result[2][0][3] for result in results]\n",
        "  return list(zip(product1, product2, supports, confidences, lifts))\n",
        "\n",
        "dataframe_intelligence= pd.DataFrame(incepect(results), columns= [\"product1\", \"product2\", \"support\", \"confidence\", \"Lift\"])"
      ]
    },
    {
      "cell_type": "code",
      "execution_count": 37,
      "metadata": {
        "colab": {
          "base_uri": "https://localhost:8080/",
          "height": 394
        },
        "id": "sfH5UHUGh_iL",
        "outputId": "64f0cdf6-fb66-464c-ecc8-6cc0bc2bc118"
      },
      "outputs": [
        {
          "data": {
            "text/html": [
              "\n",
              "  <div id=\"df-052d8752-0fb7-4dd4-b1d7-0e8459342ea9\">\n",
              "    <div class=\"colab-df-container\">\n",
              "      <div>\n",
              "<style scoped>\n",
              "    .dataframe tbody tr th:only-of-type {\n",
              "        vertical-align: middle;\n",
              "    }\n",
              "\n",
              "    .dataframe tbody tr th {\n",
              "        vertical-align: top;\n",
              "    }\n",
              "\n",
              "    .dataframe thead th {\n",
              "        text-align: right;\n",
              "    }\n",
              "</style>\n",
              "<table border=\"1\" class=\"dataframe\">\n",
              "  <thead>\n",
              "    <tr style=\"text-align: right;\">\n",
              "      <th></th>\n",
              "      <th>product1</th>\n",
              "      <th>product2</th>\n",
              "      <th>support</th>\n",
              "      <th>confidence</th>\n",
              "      <th>Lift</th>\n",
              "    </tr>\n",
              "  </thead>\n",
              "  <tbody>\n",
              "    <tr>\n",
              "      <th>0</th>\n",
              "      <td>almonds</td>\n",
              "      <td>burgers</td>\n",
              "      <td>0.005402</td>\n",
              "      <td>0.265306</td>\n",
              "      <td>3.059497</td>\n",
              "    </tr>\n",
              "    <tr>\n",
              "      <th>1</th>\n",
              "      <td>buns</td>\n",
              "      <td>paneer</td>\n",
              "      <td>0.016069</td>\n",
              "      <td>0.324022</td>\n",
              "      <td>3.285277</td>\n",
              "    </tr>\n",
              "    <tr>\n",
              "      <th>2</th>\n",
              "      <td>ginger garlic paste</td>\n",
              "      <td>chicken</td>\n",
              "      <td>0.004571</td>\n",
              "      <td>0.292035</td>\n",
              "      <td>4.791372</td>\n",
              "    </tr>\n",
              "    <tr>\n",
              "      <th>3</th>\n",
              "      <td>fruit basket</td>\n",
              "      <td>vegetable basket</td>\n",
              "      <td>0.005541</td>\n",
              "      <td>0.294118</td>\n",
              "      <td>3.081619</td>\n",
              "    </tr>\n",
              "    <tr>\n",
              "      <th>4</th>\n",
              "      <td>ginger garlic paste</td>\n",
              "      <td>olive oil</td>\n",
              "      <td>0.003325</td>\n",
              "      <td>0.212389</td>\n",
              "      <td>3.234681</td>\n",
              "    </tr>\n",
              "    <tr>\n",
              "      <th>5</th>\n",
              "      <td>kissan puree</td>\n",
              "      <td>paneer</td>\n",
              "      <td>0.005402</td>\n",
              "      <td>0.378641</td>\n",
              "      <td>3.839056</td>\n",
              "    </tr>\n",
              "    <tr>\n",
              "      <th>6</th>\n",
              "      <td>pasta</td>\n",
              "      <td>maggi</td>\n",
              "      <td>0.003463</td>\n",
              "      <td>0.247525</td>\n",
              "      <td>3.456250</td>\n",
              "    </tr>\n",
              "    <tr>\n",
              "      <th>7</th>\n",
              "      <td>pasta</td>\n",
              "      <td>mushroom</td>\n",
              "      <td>0.005402</td>\n",
              "      <td>0.386139</td>\n",
              "      <td>4.873312</td>\n",
              "    </tr>\n",
              "    <tr>\n",
              "      <th>8</th>\n",
              "      <td>pepper spray</td>\n",
              "      <td>mushroom</td>\n",
              "      <td>0.005818</td>\n",
              "      <td>0.302158</td>\n",
              "      <td>3.813428</td>\n",
              "    </tr>\n",
              "    <tr>\n",
              "      <th>9</th>\n",
              "      <td>neckrest</td>\n",
              "      <td>trolly bag</td>\n",
              "      <td>0.003463</td>\n",
              "      <td>0.271739</td>\n",
              "      <td>5.620873</td>\n",
              "    </tr>\n",
              "    <tr>\n",
              "      <th>10</th>\n",
              "      <td>whole wheat pasta</td>\n",
              "      <td>olive oil</td>\n",
              "      <td>0.007757</td>\n",
              "      <td>0.266667</td>\n",
              "      <td>4.061322</td>\n",
              "    </tr>\n",
              "  </tbody>\n",
              "</table>\n",
              "</div>\n",
              "      <button class=\"colab-df-convert\" onclick=\"convertToInteractive('df-052d8752-0fb7-4dd4-b1d7-0e8459342ea9')\"\n",
              "              title=\"Convert this dataframe to an interactive table.\"\n",
              "              style=\"display:none;\">\n",
              "        \n",
              "  <svg xmlns=\"http://www.w3.org/2000/svg\" height=\"24px\"viewBox=\"0 0 24 24\"\n",
              "       width=\"24px\">\n",
              "    <path d=\"M0 0h24v24H0V0z\" fill=\"none\"/>\n",
              "    <path d=\"M18.56 5.44l.94 2.06.94-2.06 2.06-.94-2.06-.94-.94-2.06-.94 2.06-2.06.94zm-11 1L8.5 8.5l.94-2.06 2.06-.94-2.06-.94L8.5 2.5l-.94 2.06-2.06.94zm10 10l.94 2.06.94-2.06 2.06-.94-2.06-.94-.94-2.06-.94 2.06-2.06.94z\"/><path d=\"M17.41 7.96l-1.37-1.37c-.4-.4-.92-.59-1.43-.59-.52 0-1.04.2-1.43.59L10.3 9.45l-7.72 7.72c-.78.78-.78 2.05 0 2.83L4 21.41c.39.39.9.59 1.41.59.51 0 1.02-.2 1.41-.59l7.78-7.78 2.81-2.81c.8-.78.8-2.07 0-2.86zM5.41 20L4 18.59l7.72-7.72 1.47 1.35L5.41 20z\"/>\n",
              "  </svg>\n",
              "      </button>\n",
              "      \n",
              "  <style>\n",
              "    .colab-df-container {\n",
              "      display:flex;\n",
              "      flex-wrap:wrap;\n",
              "      gap: 12px;\n",
              "    }\n",
              "\n",
              "    .colab-df-convert {\n",
              "      background-color: #E8F0FE;\n",
              "      border: none;\n",
              "      border-radius: 50%;\n",
              "      cursor: pointer;\n",
              "      display: none;\n",
              "      fill: #1967D2;\n",
              "      height: 32px;\n",
              "      padding: 0 0 0 0;\n",
              "      width: 32px;\n",
              "    }\n",
              "\n",
              "    .colab-df-convert:hover {\n",
              "      background-color: #E2EBFA;\n",
              "      box-shadow: 0px 1px 2px rgba(60, 64, 67, 0.3), 0px 1px 3px 1px rgba(60, 64, 67, 0.15);\n",
              "      fill: #174EA6;\n",
              "    }\n",
              "\n",
              "    [theme=dark] .colab-df-convert {\n",
              "      background-color: #3B4455;\n",
              "      fill: #D2E3FC;\n",
              "    }\n",
              "\n",
              "    [theme=dark] .colab-df-convert:hover {\n",
              "      background-color: #434B5C;\n",
              "      box-shadow: 0px 1px 3px 1px rgba(0, 0, 0, 0.15);\n",
              "      filter: drop-shadow(0px 1px 2px rgba(0, 0, 0, 0.3));\n",
              "      fill: #FFFFFF;\n",
              "    }\n",
              "  </style>\n",
              "\n",
              "      <script>\n",
              "        const buttonEl =\n",
              "          document.querySelector('#df-052d8752-0fb7-4dd4-b1d7-0e8459342ea9 button.colab-df-convert');\n",
              "        buttonEl.style.display =\n",
              "          google.colab.kernel.accessAllowed ? 'block' : 'none';\n",
              "\n",
              "        async function convertToInteractive(key) {\n",
              "          const element = document.querySelector('#df-052d8752-0fb7-4dd4-b1d7-0e8459342ea9');\n",
              "          const dataTable =\n",
              "            await google.colab.kernel.invokeFunction('convertToInteractive',\n",
              "                                                     [key], {});\n",
              "          if (!dataTable) return;\n",
              "\n",
              "          const docLinkHtml = 'Like what you see? Visit the ' +\n",
              "            '<a target=\"_blank\" href=https://colab.research.google.com/notebooks/data_table.ipynb>data table notebook</a>'\n",
              "            + ' to learn more about interactive tables.';\n",
              "          element.innerHTML = '';\n",
              "          dataTable['output_type'] = 'display_data';\n",
              "          await google.colab.output.renderOutput(dataTable, element);\n",
              "          const docLink = document.createElement('div');\n",
              "          docLink.innerHTML = docLinkHtml;\n",
              "          element.appendChild(docLink);\n",
              "        }\n",
              "      </script>\n",
              "    </div>\n",
              "  </div>\n",
              "  "
            ],
            "text/plain": [
              "               product1          product2   support  confidence      Lift\n",
              "0               almonds           burgers  0.005402    0.265306  3.059497\n",
              "1                  buns            paneer  0.016069    0.324022  3.285277\n",
              "2   ginger garlic paste           chicken  0.004571    0.292035  4.791372\n",
              "3          fruit basket  vegetable basket  0.005541    0.294118  3.081619\n",
              "4   ginger garlic paste         olive oil  0.003325    0.212389  3.234681\n",
              "5          kissan puree            paneer  0.005402    0.378641  3.839056\n",
              "6                 pasta             maggi  0.003463    0.247525  3.456250\n",
              "7                 pasta          mushroom  0.005402    0.386139  4.873312\n",
              "8          pepper spray          mushroom  0.005818    0.302158  3.813428\n",
              "9              neckrest        trolly bag  0.003463    0.271739  5.620873\n",
              "10    whole wheat pasta         olive oil  0.007757    0.266667  4.061322"
            ]
          },
          "execution_count": 37,
          "metadata": {},
          "output_type": "execute_result"
        }
      ],
      "source": [
        "dataframe_intelligence"
      ]
    },
    {
      "cell_type": "code",
      "execution_count": 38,
      "metadata": {
        "colab": {
          "base_uri": "https://localhost:8080/",
          "height": 363
        },
        "id": "0BO-7tM6iDIc",
        "outputId": "41d008f3-08ea-4485-f839-780721be37d1"
      },
      "outputs": [
        {
          "data": {
            "text/html": [
              "\n",
              "  <div id=\"df-6f869414-288d-4f8b-bc8b-033680d5f76a\">\n",
              "    <div class=\"colab-df-container\">\n",
              "      <div>\n",
              "<style scoped>\n",
              "    .dataframe tbody tr th:only-of-type {\n",
              "        vertical-align: middle;\n",
              "    }\n",
              "\n",
              "    .dataframe tbody tr th {\n",
              "        vertical-align: top;\n",
              "    }\n",
              "\n",
              "    .dataframe thead th {\n",
              "        text-align: right;\n",
              "    }\n",
              "</style>\n",
              "<table border=\"1\" class=\"dataframe\">\n",
              "  <thead>\n",
              "    <tr style=\"text-align: right;\">\n",
              "      <th></th>\n",
              "      <th>product1</th>\n",
              "      <th>product2</th>\n",
              "      <th>support</th>\n",
              "      <th>confidence</th>\n",
              "      <th>Lift</th>\n",
              "    </tr>\n",
              "  </thead>\n",
              "  <tbody>\n",
              "    <tr>\n",
              "      <th>9</th>\n",
              "      <td>neckrest</td>\n",
              "      <td>trolly bag</td>\n",
              "      <td>0.003463</td>\n",
              "      <td>0.271739</td>\n",
              "      <td>5.620873</td>\n",
              "    </tr>\n",
              "    <tr>\n",
              "      <th>7</th>\n",
              "      <td>pasta</td>\n",
              "      <td>mushroom</td>\n",
              "      <td>0.005402</td>\n",
              "      <td>0.386139</td>\n",
              "      <td>4.873312</td>\n",
              "    </tr>\n",
              "    <tr>\n",
              "      <th>2</th>\n",
              "      <td>ginger garlic paste</td>\n",
              "      <td>chicken</td>\n",
              "      <td>0.004571</td>\n",
              "      <td>0.292035</td>\n",
              "      <td>4.791372</td>\n",
              "    </tr>\n",
              "    <tr>\n",
              "      <th>10</th>\n",
              "      <td>whole wheat pasta</td>\n",
              "      <td>olive oil</td>\n",
              "      <td>0.007757</td>\n",
              "      <td>0.266667</td>\n",
              "      <td>4.061322</td>\n",
              "    </tr>\n",
              "    <tr>\n",
              "      <th>5</th>\n",
              "      <td>kissan puree</td>\n",
              "      <td>paneer</td>\n",
              "      <td>0.005402</td>\n",
              "      <td>0.378641</td>\n",
              "      <td>3.839056</td>\n",
              "    </tr>\n",
              "    <tr>\n",
              "      <th>8</th>\n",
              "      <td>pepper spray</td>\n",
              "      <td>mushroom</td>\n",
              "      <td>0.005818</td>\n",
              "      <td>0.302158</td>\n",
              "      <td>3.813428</td>\n",
              "    </tr>\n",
              "    <tr>\n",
              "      <th>6</th>\n",
              "      <td>pasta</td>\n",
              "      <td>maggi</td>\n",
              "      <td>0.003463</td>\n",
              "      <td>0.247525</td>\n",
              "      <td>3.456250</td>\n",
              "    </tr>\n",
              "    <tr>\n",
              "      <th>1</th>\n",
              "      <td>buns</td>\n",
              "      <td>paneer</td>\n",
              "      <td>0.016069</td>\n",
              "      <td>0.324022</td>\n",
              "      <td>3.285277</td>\n",
              "    </tr>\n",
              "    <tr>\n",
              "      <th>4</th>\n",
              "      <td>ginger garlic paste</td>\n",
              "      <td>olive oil</td>\n",
              "      <td>0.003325</td>\n",
              "      <td>0.212389</td>\n",
              "      <td>3.234681</td>\n",
              "    </tr>\n",
              "    <tr>\n",
              "      <th>3</th>\n",
              "      <td>fruit basket</td>\n",
              "      <td>vegetable basket</td>\n",
              "      <td>0.005541</td>\n",
              "      <td>0.294118</td>\n",
              "      <td>3.081619</td>\n",
              "    </tr>\n",
              "  </tbody>\n",
              "</table>\n",
              "</div>\n",
              "      <button class=\"colab-df-convert\" onclick=\"convertToInteractive('df-6f869414-288d-4f8b-bc8b-033680d5f76a')\"\n",
              "              title=\"Convert this dataframe to an interactive table.\"\n",
              "              style=\"display:none;\">\n",
              "        \n",
              "  <svg xmlns=\"http://www.w3.org/2000/svg\" height=\"24px\"viewBox=\"0 0 24 24\"\n",
              "       width=\"24px\">\n",
              "    <path d=\"M0 0h24v24H0V0z\" fill=\"none\"/>\n",
              "    <path d=\"M18.56 5.44l.94 2.06.94-2.06 2.06-.94-2.06-.94-.94-2.06-.94 2.06-2.06.94zm-11 1L8.5 8.5l.94-2.06 2.06-.94-2.06-.94L8.5 2.5l-.94 2.06-2.06.94zm10 10l.94 2.06.94-2.06 2.06-.94-2.06-.94-.94-2.06-.94 2.06-2.06.94z\"/><path d=\"M17.41 7.96l-1.37-1.37c-.4-.4-.92-.59-1.43-.59-.52 0-1.04.2-1.43.59L10.3 9.45l-7.72 7.72c-.78.78-.78 2.05 0 2.83L4 21.41c.39.39.9.59 1.41.59.51 0 1.02-.2 1.41-.59l7.78-7.78 2.81-2.81c.8-.78.8-2.07 0-2.86zM5.41 20L4 18.59l7.72-7.72 1.47 1.35L5.41 20z\"/>\n",
              "  </svg>\n",
              "      </button>\n",
              "      \n",
              "  <style>\n",
              "    .colab-df-container {\n",
              "      display:flex;\n",
              "      flex-wrap:wrap;\n",
              "      gap: 12px;\n",
              "    }\n",
              "\n",
              "    .colab-df-convert {\n",
              "      background-color: #E8F0FE;\n",
              "      border: none;\n",
              "      border-radius: 50%;\n",
              "      cursor: pointer;\n",
              "      display: none;\n",
              "      fill: #1967D2;\n",
              "      height: 32px;\n",
              "      padding: 0 0 0 0;\n",
              "      width: 32px;\n",
              "    }\n",
              "\n",
              "    .colab-df-convert:hover {\n",
              "      background-color: #E2EBFA;\n",
              "      box-shadow: 0px 1px 2px rgba(60, 64, 67, 0.3), 0px 1px 3px 1px rgba(60, 64, 67, 0.15);\n",
              "      fill: #174EA6;\n",
              "    }\n",
              "\n",
              "    [theme=dark] .colab-df-convert {\n",
              "      background-color: #3B4455;\n",
              "      fill: #D2E3FC;\n",
              "    }\n",
              "\n",
              "    [theme=dark] .colab-df-convert:hover {\n",
              "      background-color: #434B5C;\n",
              "      box-shadow: 0px 1px 3px 1px rgba(0, 0, 0, 0.15);\n",
              "      filter: drop-shadow(0px 1px 2px rgba(0, 0, 0, 0.3));\n",
              "      fill: #FFFFFF;\n",
              "    }\n",
              "  </style>\n",
              "\n",
              "      <script>\n",
              "        const buttonEl =\n",
              "          document.querySelector('#df-6f869414-288d-4f8b-bc8b-033680d5f76a button.colab-df-convert');\n",
              "        buttonEl.style.display =\n",
              "          google.colab.kernel.accessAllowed ? 'block' : 'none';\n",
              "\n",
              "        async function convertToInteractive(key) {\n",
              "          const element = document.querySelector('#df-6f869414-288d-4f8b-bc8b-033680d5f76a');\n",
              "          const dataTable =\n",
              "            await google.colab.kernel.invokeFunction('convertToInteractive',\n",
              "                                                     [key], {});\n",
              "          if (!dataTable) return;\n",
              "\n",
              "          const docLinkHtml = 'Like what you see? Visit the ' +\n",
              "            '<a target=\"_blank\" href=https://colab.research.google.com/notebooks/data_table.ipynb>data table notebook</a>'\n",
              "            + ' to learn more about interactive tables.';\n",
              "          element.innerHTML = '';\n",
              "          dataTable['output_type'] = 'display_data';\n",
              "          await google.colab.output.renderOutput(dataTable, element);\n",
              "          const docLink = document.createElement('div');\n",
              "          docLink.innerHTML = docLinkHtml;\n",
              "          element.appendChild(docLink);\n",
              "        }\n",
              "      </script>\n",
              "    </div>\n",
              "  </div>\n",
              "  "
            ],
            "text/plain": [
              "               product1          product2   support  confidence      Lift\n",
              "9              neckrest        trolly bag  0.003463    0.271739  5.620873\n",
              "7                 pasta          mushroom  0.005402    0.386139  4.873312\n",
              "2   ginger garlic paste           chicken  0.004571    0.292035  4.791372\n",
              "10    whole wheat pasta         olive oil  0.007757    0.266667  4.061322\n",
              "5          kissan puree            paneer  0.005402    0.378641  3.839056\n",
              "8          pepper spray          mushroom  0.005818    0.302158  3.813428\n",
              "6                 pasta             maggi  0.003463    0.247525  3.456250\n",
              "1                  buns            paneer  0.016069    0.324022  3.285277\n",
              "4   ginger garlic paste         olive oil  0.003325    0.212389  3.234681\n",
              "3          fruit basket  vegetable basket  0.005541    0.294118  3.081619"
            ]
          },
          "execution_count": 38,
          "metadata": {},
          "output_type": "execute_result"
        }
      ],
      "source": [
        "dataframe_intelligence.nlargest(n= 10, columns= 'Lift')"
      ]
    },
    {
      "cell_type": "markdown",
      "metadata": {
        "id": "iMj5tW1rlhyJ"
      },
      "source": [
        "## Graph visualization"
      ]
    },
    {
      "cell_type": "code",
      "execution_count": 39,
      "metadata": {
        "id": "mhQeFKGviLFa"
      },
      "outputs": [],
      "source": [
        "final= dataframe_intelligence.nlargest(n= 10, columns= 'Lift')"
      ]
    },
    {
      "cell_type": "code",
      "execution_count": 48,
      "metadata": {
        "id": "84WLvDnNjXP2"
      },
      "outputs": [],
      "source": [
        "# saparating product pairs from the dataframe.\n",
        "product_pairs= []\n",
        "\n",
        "for i in range(len(final)):\n",
        "  product_pairs.append((final.values[i, 0], final.values[i, 1]))"
      ]
    },
    {
      "cell_type": "code",
      "execution_count": 56,
      "metadata": {
        "id": "jv-LcT3jkbyA"
      },
      "outputs": [],
      "source": [
        "# saparating list value from dataframe.\n",
        "lift_value= []\n",
        "\n",
        "for i in range(len(final)):\n",
        "  lift_value.append(final.values[i, -1])"
      ]
    },
    {
      "cell_type": "code",
      "execution_count": 72,
      "metadata": {
        "colab": {
          "base_uri": "https://localhost:8080/"
        },
        "id": "ejhXcigrqtr8",
        "outputId": "ec1c0781-f7f6-4afa-a96b-b250cc08ee6c"
      },
      "outputs": [
        {
          "name": "stdout",
          "output_type": "stream",
          "text": [
            "[('neckrest', 'trolly bag'), ('pasta', 'mushroom'), ('ginger garlic paste', 'chicken'), ('whole wheat pasta', 'olive oil'), ('kissan puree', 'paneer'), ('pepper spray', 'mushroom'), ('pasta', 'maggi'), ('buns', 'paneer'), ('ginger garlic paste', 'olive oil'), ('fruit basket', 'vegetable basket')]\n",
            "[5.620873302603712, 4.873312331233124, 4.791371681415929, 4.061322081575246, 3.8390558525144542, 3.8134275796146295, 3.4562498803071797, 3.2852771326344867, 3.2346813039094875, 3.081618714249125]\n"
          ]
        }
      ],
      "source": [
        "print(product_pairs)\n",
        "print(lift_value)"
      ]
    },
    {
      "cell_type": "code",
      "execution_count": 78,
      "metadata": {
        "colab": {
          "base_uri": "https://localhost:8080/",
          "height": 313
        },
        "id": "pV_M0yOgnPzo",
        "outputId": "589581a5-7a78-406e-f49d-c62e1e084e2a"
      },
      "outputs": [
        {
          "data": {
            "image/png": "[encoded data removed]",
            "text/plain": [
              "<Figure size 432x288 with 1 Axes>"
            ]
          },
          "metadata": {
            "needs_background": "light"
          },
          "output_type": "display_data"
        }
      ],
      "source": [
        "y_pos= np.arange(len(product_pairs))\n",
        "plt.barh(y_pos, lift_value, align= 'center', alpha= 1)\n",
        "plt.yticks(y_pos, product_pairs, fontsize= 13)\n",
        "plt.xlabel(\"Lift\", fontsize= 20)\n",
        "plt.ylabel(\"Product pairs\", fontsize= 20)\n",
        "plt.title(\"Top 10 Product Pairs\", fontsize= 25)\n",
        "plt.show()"
      ]
    }
  ],
  "metadata": {
    "colab": {
      "provenance": []
    },
    "kernelspec": {
      "display_name": "Python 3",
      "name": "python3"
    },
    "language_info": {
      "name": "python"
    }
  },
  "nbformat": 4,
  "nbformat_minor": 0
}
